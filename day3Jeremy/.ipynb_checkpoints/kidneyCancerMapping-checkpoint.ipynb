{
 "metadata": {
  "name": "",
  "signature": "sha256:f34c4f0876b1dbe527f7ea58eb8c94eceda56ab89991031996887ff3ac4fae48"
 },
 "nbformat": 3,
 "nbformat_minor": 0,
 "worksheets": [
  {
   "cells": [
    {
     "cell_type": "markdown",
     "metadata": {},
     "source": [
      "Setting up\n",
      "==========\n",
      "Here we're importing a few modules to use in this notebook: pandas, numpy, and json.  \n",
      "* Pandas lets you work with tabular data in some really cool and efficient ways.  \n",
      "* Json is a simple library that makes working with json files easier."
     ]
    },
    {
     "cell_type": "code",
     "collapsed": false,
     "input": [
      "import pandas as pd\n",
      "import json\n",
      "%pylab inline"
     ],
     "language": "python",
     "metadata": {},
     "outputs": [
      {
       "output_type": "stream",
       "stream": "stdout",
       "text": [
        "Populating the interactive namespace from numpy and matplotlib\n"
       ]
      }
     ],
     "prompt_number": 2
    },
    {
     "cell_type": "markdown",
     "metadata": {},
     "source": [
      "`pd.Dataframe.from_csv` is a command that makes an object called a dataframe from a csv file. You can think of a dataframe as something like a spreadsheet, but one that won't choke on large datasets, and that's built for lots of bulk manipulation.  \n",
      "Why do I have to put `kCancer = `?"
     ]
    },
    {
     "cell_type": "code",
     "collapsed": false,
     "input": [
      "kCancer = pd.DataFrame.from_csv(\"kidney_cancer_clean.csv\")\n",
      "kCancer.head()\n",
      "#dc died of cancer"
     ],
     "language": "python",
     "metadata": {},
     "outputs": [
      {
       "html": [
        "<div style=\"max-height:1000px;max-width:1500px;overflow:auto;\">\n",
        "<table border=\"1\" class=\"dataframe\">\n",
        "  <thead>\n",
        "    <tr style=\"text-align: right;\">\n",
        "      <th></th>\n",
        "      <th>state</th>\n",
        "      <th>county</th>\n",
        "      <th>dc</th>\n",
        "      <th>dcV</th>\n",
        "      <th>pop</th>\n",
        "      <th>popV</th>\n",
        "      <th>aadc</th>\n",
        "      <th>aadcV</th>\n",
        "      <th>dcC</th>\n",
        "      <th>dcCV</th>\n",
        "      <th>good</th>\n",
        "      <th>fips</th>\n",
        "      <th>county_lower</th>\n",
        "      <th>test</th>\n",
        "      <th>county_lookup</th>\n",
        "      <th>geojson_lookup</th>\n",
        "      <th>pct_mortality</th>\n",
        "    </tr>\n",
        "  </thead>\n",
        "  <tbody>\n",
        "    <tr>\n",
        "      <th>0</th>\n",
        "      <td> ALABAMA</td>\n",
        "      <td> AUTAUGA</td>\n",
        "      <td>  1</td>\n",
        "      <td> VALID</td>\n",
        "      <td>  64915</td>\n",
        "      <td> VALID</td>\n",
        "      <td> 1.7</td>\n",
        "      <td> UNRELIABLE</td>\n",
        "      <td> 1.5</td>\n",
        "      <td> UNRELIABLE</td>\n",
        "      <td> 1</td>\n",
        "      <td> 1</td>\n",
        "      <td> Autauga</td>\n",
        "      <td> True</td>\n",
        "      <td> Autauga|01</td>\n",
        "      <td> 2971</td>\n",
        "      <td> 0.000015</td>\n",
        "    </tr>\n",
        "    <tr>\n",
        "      <th>1</th>\n",
        "      <td> ALABAMA</td>\n",
        "      <td> BALDWIN</td>\n",
        "      <td> 15</td>\n",
        "      <td> VALID</td>\n",
        "      <td> 195253</td>\n",
        "      <td> VALID</td>\n",
        "      <td> 6.3</td>\n",
        "      <td> UNRELIABLE</td>\n",
        "      <td> 7.7</td>\n",
        "      <td> UNRELIABLE</td>\n",
        "      <td> 1</td>\n",
        "      <td> 1</td>\n",
        "      <td> Baldwin</td>\n",
        "      <td> True</td>\n",
        "      <td> Baldwin|01</td>\n",
        "      <td>  838</td>\n",
        "      <td> 0.000077</td>\n",
        "    </tr>\n",
        "    <tr>\n",
        "      <th>2</th>\n",
        "      <td> ALABAMA</td>\n",
        "      <td> BARBOUR</td>\n",
        "      <td>  1</td>\n",
        "      <td> VALID</td>\n",
        "      <td>  33987</td>\n",
        "      <td> VALID</td>\n",
        "      <td> 2.6</td>\n",
        "      <td> UNRELIABLE</td>\n",
        "      <td> 2.9</td>\n",
        "      <td> UNRELIABLE</td>\n",
        "      <td> 1</td>\n",
        "      <td> 1</td>\n",
        "      <td> Barbour</td>\n",
        "      <td> True</td>\n",
        "      <td> Barbour|01</td>\n",
        "      <td> 2108</td>\n",
        "      <td> 0.000029</td>\n",
        "    </tr>\n",
        "    <tr>\n",
        "      <th>3</th>\n",
        "      <td> ALABAMA</td>\n",
        "      <td>    BIBB</td>\n",
        "      <td>  1</td>\n",
        "      <td> VALID</td>\n",
        "      <td>  31175</td>\n",
        "      <td> VALID</td>\n",
        "      <td> 2.9</td>\n",
        "      <td> UNRELIABLE</td>\n",
        "      <td> 3.2</td>\n",
        "      <td> UNRELIABLE</td>\n",
        "      <td> 1</td>\n",
        "      <td> 1</td>\n",
        "      <td>    Bibb</td>\n",
        "      <td> True</td>\n",
        "      <td>    Bibb|01</td>\n",
        "      <td>  965</td>\n",
        "      <td> 0.000032</td>\n",
        "    </tr>\n",
        "    <tr>\n",
        "      <th>4</th>\n",
        "      <td> ALABAMA</td>\n",
        "      <td>  BLOUNT</td>\n",
        "      <td>  5</td>\n",
        "      <td> VALID</td>\n",
        "      <td>  91547</td>\n",
        "      <td> VALID</td>\n",
        "      <td> 4.8</td>\n",
        "      <td> UNRELIABLE</td>\n",
        "      <td> 5.5</td>\n",
        "      <td> UNRELIABLE</td>\n",
        "      <td> 1</td>\n",
        "      <td> 1</td>\n",
        "      <td>  Blount</td>\n",
        "      <td> True</td>\n",
        "      <td>  Blount|01</td>\n",
        "      <td> 2533</td>\n",
        "      <td> 0.000055</td>\n",
        "    </tr>\n",
        "  </tbody>\n",
        "</table>\n",
        "</div>"
       ],
       "metadata": {},
       "output_type": "pyout",
       "prompt_number": 4,
       "text": [
        "     state   county  dc    dcV     pop   popV  aadc       aadcV  dcC  \\\n",
        "0  ALABAMA  AUTAUGA   1  VALID   64915  VALID   1.7  UNRELIABLE  1.5   \n",
        "1  ALABAMA  BALDWIN  15  VALID  195253  VALID   6.3  UNRELIABLE  7.7   \n",
        "2  ALABAMA  BARBOUR   1  VALID   33987  VALID   2.6  UNRELIABLE  2.9   \n",
        "3  ALABAMA     BIBB   1  VALID   31175  VALID   2.9  UNRELIABLE  3.2   \n",
        "4  ALABAMA   BLOUNT   5  VALID   91547  VALID   4.8  UNRELIABLE  5.5   \n",
        "\n",
        "         dcCV  good  fips county_lower  test county_lookup  geojson_lookup  \\\n",
        "0  UNRELIABLE     1     1      Autauga  True    Autauga|01            2971   \n",
        "1  UNRELIABLE     1     1      Baldwin  True    Baldwin|01             838   \n",
        "2  UNRELIABLE     1     1      Barbour  True    Barbour|01            2108   \n",
        "3  UNRELIABLE     1     1         Bibb  True       Bibb|01             965   \n",
        "4  UNRELIABLE     1     1       Blount  True     Blount|01            2533   \n",
        "\n",
        "   pct_mortality  \n",
        "0       0.000015  \n",
        "1       0.000077  \n",
        "2       0.000029  \n",
        "3       0.000032  \n",
        "4       0.000055  "
       ]
      }
     ],
     "prompt_number": 4
    },
    {
     "cell_type": "markdown",
     "metadata": {},
     "source": [
      "Here we're just loading a json file with `json.load()`. The line `with open('us_county_map.geojson','r')as fp:` is sort of like a container around the file opening. When you open a file in a `with open` method like we did here, the file will be open only as long as it needs to be, and won't be messy."
     ]
    },
    {
     "cell_type": "code",
     "collapsed": false,
     "input": [
      "with open('us_county_map.geojson','r')as fp: #opens and closes the file in one line\n",
      "    countyMap = json.load(fp)  #shift tab at the beginnning of parens and get the docmentation"
     ],
     "language": "python",
     "metadata": {},
     "outputs": [],
     "prompt_number": 7
    },
    {
     "cell_type": "markdown",
     "metadata": {},
     "source": [
      "So what are we looking at in this json file here? Here's a few ways of finding out."
     ]
    },
    {
     "cell_type": "code",
     "collapsed": false,
     "input": [
      "countyMap.keys() #u means unicode string"
     ],
     "language": "python",
     "metadata": {},
     "outputs": [
      {
       "metadata": {},
       "output_type": "pyout",
       "prompt_number": 13,
       "text": [
        "[u'crs', u'type', u'features']"
       ]
      }
     ],
     "prompt_number": 13
    },
    {
     "cell_type": "code",
     "collapsed": false,
     "input": [
      "type(countyMap)"
     ],
     "language": "python",
     "metadata": {},
     "outputs": [
      {
       "metadata": {},
       "output_type": "pyout",
       "prompt_number": 14,
       "text": [
        "dict"
       ]
      }
     ],
     "prompt_number": 14
    },
    {
     "cell_type": "code",
     "collapsed": false,
     "input": [
      "type(countyMap['features'])"
     ],
     "language": "python",
     "metadata": {},
     "outputs": [
      {
       "metadata": {},
       "output_type": "pyout",
       "prompt_number": 15,
       "text": [
        "list"
       ]
      }
     ],
     "prompt_number": 15
    },
    {
     "cell_type": "code",
     "collapsed": false,
     "input": [
      "len(countyMap['features'])"
     ],
     "language": "python",
     "metadata": {},
     "outputs": [
      {
       "metadata": {},
       "output_type": "pyout",
       "prompt_number": 16,
       "text": [
        "3234"
       ]
      }
     ],
     "prompt_number": 16
    },
    {
     "cell_type": "code",
     "collapsed": false,
     "input": [
      "countyMap['features'][0] #lat long for the places, shape files from the census bureau"
     ],
     "language": "python",
     "metadata": {},
     "outputs": [
      {
       "metadata": {},
       "output_type": "pyout",
       "prompt_number": 19,
       "text": [
        "{u'geometry': {u'coordinates': [[[-121.48444, 38.751354],\n",
        "    [-121.469803, 38.751939],\n",
        "    [-121.469356, 38.925992],\n",
        "    [-121.4144, 38.926214],\n",
        "    [-121.414779, 38.996452],\n",
        "    [-121.365643, 39.031743],\n",
        "    [-121.332135, 39.042021],\n",
        "    [-121.305992, 39.052943],\n",
        "    [-121.279533, 39.034618],\n",
        "    [-121.278336, 39.034471],\n",
        "    [-121.272622, 39.033765],\n",
        "    [-121.270285, 39.032083],\n",
        "    [-121.267532, 39.031709],\n",
        "    [-121.26497, 39.030324],\n",
        "    [-121.261668, 39.029301],\n",
        "    [-121.258352, 39.029475],\n",
        "    [-121.256361, 39.027953],\n",
        "    [-121.251067, 39.028622],\n",
        "    [-121.24803, 39.026889],\n",
        "    [-121.24539, 39.024193],\n",
        "    [-121.239856, 39.022167],\n",
        "    [-121.238134, 39.0239],\n",
        "    [-121.234597, 39.024421],\n",
        "    [-121.231259, 39.023811],\n",
        "    [-121.22703, 39.019662],\n",
        "    [-121.223371, 39.014582],\n",
        "    [-121.219082, 39.012124],\n",
        "    [-121.214993, 39.012784],\n",
        "    [-121.207656, 39.012129],\n",
        "    [-121.205356, 39.013859],\n",
        "    [-121.20223, 39.016282],\n",
        "    [-121.197962, 39.016803],\n",
        "    [-121.192654, 39.015631],\n",
        "    [-121.189784, 39.013574],\n",
        "    [-121.184669, 39.014666],\n",
        "    [-121.181928, 39.016944],\n",
        "    [-121.180319, 39.018909],\n",
        "    [-121.17616, 39.019364],\n",
        "    [-121.172917, 39.018465],\n",
        "    [-121.16741, 39.021271],\n",
        "    [-121.162924, 39.023532],\n",
        "    [-121.15737, 39.025179],\n",
        "    [-121.152036, 39.027264],\n",
        "    [-121.150753, 39.031142],\n",
        "    [-121.144404, 39.033882],\n",
        "    [-121.140907, 39.036309],\n",
        "    [-121.135031, 39.036564],\n",
        "    [-121.131792, 39.034217],\n",
        "    [-121.128359, 39.033051],\n",
        "    [-121.12556, 39.031486],\n",
        "    [-121.126295, 39.031038],\n",
        "    [-121.125819, 39.028997],\n",
        "    [-121.123815, 39.028148],\n",
        "    [-121.121281, 39.02422],\n",
        "    [-121.116121, 39.019157],\n",
        "    [-121.108141, 39.017899],\n",
        "    [-121.105924, 39.013347],\n",
        "    [-121.101998, 39.011796],\n",
        "    [-121.097924, 39.013106],\n",
        "    [-121.096439, 39.012425],\n",
        "    [-121.094051, 39.011874],\n",
        "    [-121.091754, 39.012895],\n",
        "    [-121.088094, 39.013326],\n",
        "    [-121.082362, 39.010063],\n",
        "    [-121.080342, 39.006862],\n",
        "    [-121.075148, 39.006182],\n",
        "    [-121.070741, 39.00541],\n",
        "    [-121.066481, 39.006073],\n",
        "    [-121.062875, 39.009077],\n",
        "    [-121.059087, 39.009942],\n",
        "    [-121.050338, 39.011996],\n",
        "    [-121.043335, 39.013469],\n",
        "    [-121.03769, 39.020805],\n",
        "    [-121.029544, 39.032226],\n",
        "    [-121.0301, 39.036774],\n",
        "    [-121.027158, 39.038791],\n",
        "    [-121.021083, 39.042348],\n",
        "    [-121.016417, 39.047343],\n",
        "    [-121.013118, 39.050626],\n",
        "    [-121.010405, 39.051573],\n",
        "    [-121.008397, 39.054237],\n",
        "    [-121.006842, 39.058861],\n",
        "    [-121.004169, 39.06199],\n",
        "    [-121.0031, 39.066795],\n",
        "    [-120.999732, 39.067863],\n",
        "    [-120.9964, 39.068973],\n",
        "    [-120.998163, 39.070713],\n",
        "    [-120.994364, 39.074093],\n",
        "    [-120.99215, 39.075406],\n",
        "    [-120.994047, 39.077991],\n",
        "    [-120.995486, 39.079127],\n",
        "    [-120.993437, 39.081676],\n",
        "    [-120.990634, 39.082765],\n",
        "    [-120.988706, 39.086846],\n",
        "    [-120.98766, 39.094358],\n",
        "    [-120.986853, 39.098416],\n",
        "    [-120.987419, 39.101123],\n",
        "    [-120.986793, 39.103649],\n",
        "    [-120.987754, 39.107103],\n",
        "    [-120.989693, 39.109809],\n",
        "    [-120.989387, 39.111229],\n",
        "    [-120.986858, 39.111085],\n",
        "    [-120.985217, 39.110725],\n",
        "    [-120.981188, 39.110346],\n",
        "    [-120.977515, 39.111928],\n",
        "    [-120.975783, 39.115058],\n",
        "    [-120.973839, 39.118972],\n",
        "    [-120.96821, 39.121948],\n",
        "    [-120.96704, 39.126282],\n",
        "    [-120.96474, 39.128588],\n",
        "    [-120.959177, 39.13129],\n",
        "    [-120.953134, 39.135671],\n",
        "    [-120.949463, 39.139087],\n",
        "    [-120.939914, 39.145781],\n",
        "    [-120.931485, 39.152965],\n",
        "    [-120.926127, 39.155934],\n",
        "    [-120.922833, 39.161151],\n",
        "    [-120.91406, 39.16347],\n",
        "    [-120.908147, 39.164519],\n",
        "    [-120.906756, 39.167622],\n",
        "    [-120.908646, 39.168485],\n",
        "    [-120.90758, 39.170632],\n",
        "    [-120.905075, 39.171619],\n",
        "    [-120.903015, 39.173267],\n",
        "    [-120.899589, 39.175053],\n",
        "    [-120.896487, 39.176565],\n",
        "    [-120.893502, 39.175467],\n",
        "    [-120.89215, 39.176029],\n",
        "    [-120.887999, 39.176491],\n",
        "    [-120.884764, 39.178433],\n",
        "    [-120.88053, 39.178539],\n",
        "    [-120.87689, 39.178936],\n",
        "    [-120.873152, 39.179867],\n",
        "    [-120.870589, 39.179745],\n",
        "    [-120.868338, 39.182053],\n",
        "    [-120.869094, 39.183518],\n",
        "    [-120.869261, 39.185162],\n",
        "    [-120.868292, 39.185513],\n",
        "    [-120.867178, 39.185944],\n",
        "    [-120.867468, 39.18644],\n",
        "    [-120.86679, 39.187325],\n",
        "    [-120.865988, 39.187439],\n",
        "    [-120.865561, 39.188496],\n",
        "    [-120.866248, 39.188614],\n",
        "    [-120.866278, 39.189869],\n",
        "    [-120.864988, 39.190247],\n",
        "    [-120.862448, 39.191422],\n",
        "    [-120.860558, 39.193196],\n",
        "    [-120.859861, 39.195695],\n",
        "    [-120.857748, 39.197877],\n",
        "    [-120.8571, 39.19986],\n",
        "    [-120.85761, 39.201882],\n",
        "    [-120.85666, 39.2039],\n",
        "    [-120.857458, 39.204972],\n",
        "    [-120.857352, 39.206357],\n",
        "    [-120.856138, 39.206624],\n",
        "    [-120.854895, 39.208802],\n",
        "    [-120.853674, 39.209721],\n",
        "    [-120.852049, 39.211556],\n",
        "    [-120.84973, 39.212392],\n",
        "    [-120.846044, 39.213754],\n",
        "    [-120.842005, 39.214673],\n",
        "    [-120.836216, 39.217488],\n",
        "    [-120.831673, 39.21991],\n",
        "    [-120.830701, 39.220967],\n",
        "    [-120.828656, 39.221204],\n",
        "    [-120.827603, 39.221711],\n",
        "    [-120.828076, 39.222337],\n",
        "    [-120.828649, 39.222779],\n",
        "    [-120.827519, 39.223821],\n",
        "    [-120.826001, 39.223943],\n",
        "    [-120.824437, 39.225599],\n",
        "    [-120.821912, 39.226549],\n",
        "    [-120.820439, 39.227208],\n",
        "    [-120.818921, 39.227605],\n",
        "    [-120.819279, 39.228414],\n",
        "    [-120.817548, 39.22933],\n",
        "    [-120.815778, 39.230108],\n",
        "    [-120.813626, 39.229955],\n",
        "    [-120.811963, 39.230875],\n",
        "    [-120.80959, 39.232393],\n",
        "    [-120.807018, 39.23327],\n",
        "    [-120.804249, 39.233266],\n",
        "    [-120.803288, 39.2344],\n",
        "    [-120.802189, 39.235468],\n",
        "    [-120.801373, 39.23535],\n",
        "    [-120.8, 39.236456],\n",
        "    [-120.799313, 39.237822],\n",
        "    [-120.796726, 39.239199],\n",
        "    [-120.793316, 39.240541],\n",
        "    [-120.790921, 39.242079],\n",
        "    [-120.788418, 39.243643],\n",
        "    [-120.785763, 39.245913],\n",
        "    [-120.785069, 39.248179],\n",
        "    [-120.781711, 39.249392],\n",
        "    [-120.777011, 39.252062],\n",
        "    [-120.77524, 39.254439],\n",
        "    [-120.771861, 39.255654],\n",
        "    [-120.76819, 39.256878],\n",
        "    [-120.76671, 39.25817],\n",
        "    [-120.765239, 39.260478],\n",
        "    [-120.764522, 39.262576],\n",
        "    [-120.762447, 39.263922],\n",
        "    [-120.759951, 39.264037],\n",
        "    [-120.75697, 39.264151],\n",
        "    [-120.755351, 39.265979],\n",
        "    [-120.752619, 39.268354],\n",
        "    [-120.750216, 39.269702],\n",
        "    [-120.748911, 39.272353],\n",
        "    [-120.747403, 39.274734],\n",
        "    [-120.744796, 39.275676],\n",
        "    [-120.743171, 39.27742],\n",
        "    [-120.740102, 39.278914],\n",
        "    [-120.737663, 39.280104],\n",
        "    [-120.735767, 39.282165],\n",
        "    [-120.73259, 39.283986],\n",
        "    [-120.728994, 39.286835],\n",
        "    [-120.72572, 39.288752],\n",
        "    [-120.720243, 39.290302],\n",
        "    [-120.71484, 39.292247],\n",
        "    [-120.709925, 39.2931],\n",
        "    [-120.707805, 39.295613],\n",
        "    [-120.704244, 39.297254],\n",
        "    [-120.702809, 39.299552],\n",
        "    [-120.700026, 39.30004],\n",
        "    [-120.697839, 39.301036],\n",
        "    [-120.694688, 39.301547],\n",
        "    [-120.69227, 39.302646],\n",
        "    [-120.691796, 39.303455],\n",
        "    [-120.69054, 39.304023],\n",
        "    [-120.688798, 39.303943],\n",
        "    [-120.68574, 39.304943],\n",
        "    [-120.682817, 39.306633],\n",
        "    [-120.680812, 39.306103],\n",
        "    [-120.679173, 39.306449],\n",
        "    [-120.676417, 39.307256],\n",
        "    [-120.675019, 39.308494],\n",
        "    [-120.672227, 39.309993],\n",
        "    [-120.670953, 39.310257],\n",
        "    [-120.670456, 39.309261],\n",
        "    [-120.670457, 39.308689],\n",
        "    [-120.668336, 39.308193],\n",
        "    [-120.667374, 39.308926],\n",
        "    [-120.665457, 39.309733],\n",
        "    [-120.663457, 39.309996],\n",
        "    [-120.66126, 39.309479],\n",
        "    [-120.659933, 39.308495],\n",
        "    [-120.65549, 39.308604],\n",
        "    [-120.639562, 39.315203],\n",
        "    [-120.608878, 39.315452],\n",
        "    [-120.56371, 39.315572],\n",
        "    [-120.5546, 39.315596],\n",
        "    [-120.322378, 39.316427],\n",
        "    [-120.036657, 39.316334],\n",
        "    [-120.010253, 39.316328],\n",
        "    [-120.00531557607401, 39.3164525335553],\n",
        "    [-120.00532, 39.31635],\n",
        "    [-120.005413, 39.313848],\n",
        "    [-120.005414, 39.313345],\n",
        "    [-120.005142, 39.291258],\n",
        "    [-120.005743, 39.228664],\n",
        "    [-120.005746, 39.22521],\n",
        "    [-120.004504420333, 39.1655986798664],\n",
        "    [-120.00340238137, 39.112687055111],\n",
        "    [-120.002461, 39.067489],\n",
        "    [-120.143663, 39.067285],\n",
        "    [-120.153021, 39.060329],\n",
        "    [-120.152976, 39.045807],\n",
        "    [-120.165028, 39.038485],\n",
        "    [-120.18356, 39.038372],\n",
        "    [-120.184098, 39.031014],\n",
        "    [-120.24016, 39.030889],\n",
        "    [-120.24041, 39.023668],\n",
        "    [-120.328122, 39.022433],\n",
        "    [-120.43524, 39.028397],\n",
        "    [-120.445213, 39.017595],\n",
        "    [-120.47098, 38.965507],\n",
        "    [-120.486122, 38.958837],\n",
        "    [-120.49273, 38.943351],\n",
        "    [-120.512346, 38.931191],\n",
        "    [-120.54537, 38.926668],\n",
        "    [-120.55632, 38.915164],\n",
        "    [-120.572352, 38.9144],\n",
        "    [-120.594381, 38.936104],\n",
        "    [-120.612809, 38.943091],\n",
        "    [-120.642458, 38.944404],\n",
        "    [-120.683668, 38.967531],\n",
        "    [-120.687925, 38.989949],\n",
        "    [-120.703904, 38.981182],\n",
        "    [-120.716286, 38.986671],\n",
        "    [-120.729575, 39.004025],\n",
        "    [-120.746395, 39.010352],\n",
        "    [-120.764448, 39.00975],\n",
        "    [-120.798103, 38.996051],\n",
        "    [-120.812295, 39.000133],\n",
        "    [-120.829711, 38.987343],\n",
        "    [-120.834163, 38.971866],\n",
        "    [-120.850514, 38.975899],\n",
        "    [-120.858903, 38.952256],\n",
        "    [-120.890502, 38.959562],\n",
        "    [-120.899989, 38.953348],\n",
        "    [-120.940281, 38.962339],\n",
        "    [-120.93857, 38.935565],\n",
        "    [-120.958052, 38.939005],\n",
        "    [-120.965994, 38.932581],\n",
        "    [-120.991968, 38.927225],\n",
        "    [-121.00105, 38.917835],\n",
        "    [-121.037502, 38.915689],\n",
        "    [-121.04051, 38.915538],\n",
        "    [-121.052911, 38.900144],\n",
        "    [-121.044175, 38.890826],\n",
        "    [-121.061984, 38.881499],\n",
        "    [-121.053263, 38.868347],\n",
        "    [-121.06168, 38.860251],\n",
        "    [-121.05841, 38.847129],\n",
        "    [-121.087341, 38.833274],\n",
        "    [-121.084957, 38.81601],\n",
        "    [-121.100844, 38.815392],\n",
        "    [-121.102999, 38.785548],\n",
        "    [-121.119259, 38.765794],\n",
        "    [-121.117479, 38.757793],\n",
        "    [-121.134507, 38.712032],\n",
        "    [-121.141009, 38.71198],\n",
        "    [-121.151857, 38.711502],\n",
        "    [-121.30883, 38.72279],\n",
        "    [-121.381658, 38.727796],\n",
        "    [-121.484396, 38.734598],\n",
        "    [-121.48444, 38.751354]]],\n",
        "  u'type': u'Polygon'},\n",
        " u'properties': {u'AFFGEOID': u'0500000US06061',\n",
        "  u'ALAND': 3643636599.0,\n",
        "  u'AWATER': 247086378.0,\n",
        "  u'COUNTYFP': u'061',\n",
        "  u'COUNTYNS': u'00277295',\n",
        "  u'GEOID': u'06061',\n",
        "  u'LSAD': u'06',\n",
        "  u'NAME': u'Placer',\n",
        "  u'STATEFP': u'06',\n",
        "  u'fill': u'#EE1289',\n",
        "  u'stroke': u'#EE1289'},\n",
        " u'type': u'Feature'}"
       ]
      }
     ],
     "prompt_number": 19
    },
    {
     "cell_type": "code",
     "collapsed": false,
     "input": [
      "features = countyMap['features']"
     ],
     "language": "python",
     "metadata": {},
     "outputs": [],
     "prompt_number": 20
    },
    {
     "cell_type": "code",
     "collapsed": false,
     "input": [
      "top_kcancer_counties = kCancer.sort(columns='pct_mortality',ascending=False)[:323]"
     ],
     "language": "python",
     "metadata": {},
     "outputs": [],
     "prompt_number": 21
    },
    {
     "cell_type": "code",
     "collapsed": false,
     "input": [
      "top_geojson = {'features': [], 'crs': {'properties': {'name': 'urn:ogc:def:crs:OGC:1.3:CRS84'}, 'type': 'name'},'type': 'FeatureCollection'}"
     ],
     "language": "python",
     "metadata": {},
     "outputs": [],
     "prompt_number": 23
    },
    {
     "cell_type": "code",
     "collapsed": false,
     "input": [
      "def color_geojson(index,featurelist,geojson_dict,stroke=\"#EE1289\",fill=\"#EE1289\"):\n",
      "    \"\"\"\n",
      "    This function takes an index to a list of features, to be added to the named geojson and colored according to the stroke and fill colors.\n",
      "    \"\"\"\n",
      "    feature = featurelist[index]\n",
      "    feature['properties']['fill'] = fill\n",
      "    feature['properties']['stroke'] = stroke\n",
      "    geojson_dict['features'].append(feature)\n",
      "    return 0"
     ],
     "language": "python",
     "metadata": {},
     "outputs": [],
     "prompt_number": 26
    },
    {
     "cell_type": "code",
     "collapsed": false,
     "input": [
      "top_kcancer_counties.geojson_lookup.apply(color_geojson,args=[features,top_geojson,\"#DE0707\",\"#DE0707\"])"
     ],
     "language": "python",
     "metadata": {},
     "outputs": [
      {
       "metadata": {},
       "output_type": "pyout",
       "prompt_number": 27,
       "text": [
        "1685    0\n",
        "1404    0\n",
        "1444    0\n",
        "475     0\n",
        "1977    0\n",
        "2630    0\n",
        "1421    0\n",
        "1383    0\n",
        "2827    0\n",
        "1624    0\n",
        "497     0\n",
        "1969    0\n",
        "2859    0\n",
        "1557    0\n",
        "1589    0\n",
        "...\n",
        "935     0\n",
        "2162    0\n",
        "2646    0\n",
        "1264    0\n",
        "873     0\n",
        "1379    0\n",
        "1208    0\n",
        "805     0\n",
        "2163    0\n",
        "1341    0\n",
        "1992    0\n",
        "92      0\n",
        "72      0\n",
        "252     0\n",
        "13      0\n",
        "Name: geojson_lookup, Length: 323, dtype: int64"
       ]
      }
     ],
     "prompt_number": 27
    },
    {
     "cell_type": "code",
     "collapsed": false,
     "input": [
      "with open(\"top_kCancer.geojson\",\"w\") as fp:\n",
      "    json.dump(top_geojson,fp)"
     ],
     "language": "python",
     "metadata": {},
     "outputs": [],
     "prompt_number": 28
    },
    {
     "cell_type": "markdown",
     "metadata": {},
     "source": [
      "Time to commit our changes, and push them up to github!\n",
      "=======================================================\n",
      "  \n",
      "   \n",
      "   \n",
      "   "
     ]
    },
    {
     "cell_type": "markdown",
     "metadata": {},
     "source": [
      "Now, let's do the same thing for the lowest kidney cancer rates.\n",
      "================================================================\n",
      "These folks are probably particularly healthy!"
     ]
    },
    {
     "cell_type": "code",
     "collapsed": false,
     "input": [
      "bot_kcancer_counties = kCancer.sort(columns='pct_mortality',ascending=True)[:323]"
     ],
     "language": "python",
     "metadata": {},
     "outputs": []
    },
    {
     "cell_type": "code",
     "collapsed": false,
     "input": [
      "bot_geojson = {'features': [], 'crs': {'properties': {'name': 'urn:ogc:def:crs:OGC:1.3:CRS84'}, 'type': 'name'},'type': 'FeatureCollection'}"
     ],
     "language": "python",
     "metadata": {},
     "outputs": []
    },
    {
     "cell_type": "code",
     "collapsed": false,
     "input": [
      "bot_kcancer_counties.geojson_lookup.apply(color_geojson,args=[features,bot_geojson,\"#146DBA\",\"#146DBA\"])"
     ],
     "language": "python",
     "metadata": {},
     "outputs": []
    },
    {
     "cell_type": "code",
     "collapsed": false,
     "input": [
      "with open(\"bot_kCancer.geojson\",\"w\") as fp:\n",
      "    json.dump(bot_geojson,fp)"
     ],
     "language": "python",
     "metadata": {},
     "outputs": []
    },
    {
     "cell_type": "markdown",
     "metadata": {},
     "source": [
      "Hmmm...\n",
      "=======\n",
      "Those look awful similar. Let's say we put them together?"
     ]
    },
    {
     "cell_type": "code",
     "collapsed": false,
     "input": [
      "top_geojson['features'].extend(bot_geojson['features'])"
     ],
     "language": "python",
     "metadata": {},
     "outputs": []
    },
    {
     "cell_type": "code",
     "collapsed": false,
     "input": [
      "with open(\"combined_kCancer.geojson\",\"w\") as fp:\n",
      "    json.dump(top_geojson,fp)"
     ],
     "language": "python",
     "metadata": {},
     "outputs": []
    },
    {
     "cell_type": "markdown",
     "metadata": {},
     "source": [
      "Time to push to git again!\n",
      "==========================\n",
      "* \n",
      "* \n",
      "* \n",
      "* \n",
      "* \n",
      "* "
     ]
    },
    {
     "cell_type": "markdown",
     "metadata": {},
     "source": [
      "There seem to be a lot of counties in the top and bottom 10% that are right next to each other. What's up with that?"
     ]
    },
    {
     "cell_type": "code",
     "collapsed": false,
     "input": [
      "top_kcancer_counties[['dc','pop','pct_mortality']].describe()"
     ],
     "language": "python",
     "metadata": {},
     "outputs": []
    },
    {
     "cell_type": "code",
     "collapsed": false,
     "input": [
      "bot_kcancer_counties[['dc','pop','pct_mortality']].describe()"
     ],
     "language": "python",
     "metadata": {},
     "outputs": []
    },
    {
     "cell_type": "code",
     "collapsed": false,
     "input": [
      "kCancer[['dc','pop','pct_mortality']].describe()"
     ],
     "language": "python",
     "metadata": {},
     "outputs": []
    },
    {
     "cell_type": "code",
     "collapsed": false,
     "input": [
      "kCancer.plot(kind='scatter',x=\"pop\",y=\"pct_mortality\",ylim=(-.0001,0.001),xlim=(-50000,3000000),figsize=(16,9))"
     ],
     "language": "python",
     "metadata": {},
     "outputs": []
    },
    {
     "cell_type": "markdown",
     "metadata": {},
     "source": [
      "Let's try aggregating by state to get a larger sample size!\n",
      "==========================================================="
     ]
    },
    {
     "cell_type": "code",
     "collapsed": false,
     "input": [
      "state_kcancer = kCancer[['dc','pop','fips']].pivot_table(index='fips',values=['dc','pop'],aggfunc=sum)"
     ],
     "language": "python",
     "metadata": {},
     "outputs": []
    },
    {
     "cell_type": "code",
     "collapsed": false,
     "input": [
      "state_kcancer['pct_mortality'] = state_kcancer.dc/state_kcancer['pop']"
     ],
     "language": "python",
     "metadata": {},
     "outputs": []
    },
    {
     "cell_type": "code",
     "collapsed": false,
     "input": [
      "state_kcancer.head()"
     ],
     "language": "python",
     "metadata": {},
     "outputs": []
    },
    {
     "cell_type": "code",
     "collapsed": false,
     "input": [
      "state_kcancer.describe()"
     ],
     "language": "python",
     "metadata": {},
     "outputs": []
    },
    {
     "cell_type": "code",
     "collapsed": false,
     "input": [
      "state_kcancer = state_kcancer.sort(columns='pct_mortality',ascending=False)\n",
      "state_kcancer.head()"
     ],
     "language": "python",
     "metadata": {},
     "outputs": []
    },
    {
     "cell_type": "code",
     "collapsed": false,
     "input": [
      "state_mortality = state_kcancer.to_dict()['pct_mortality']"
     ],
     "language": "python",
     "metadata": {},
     "outputs": []
    },
    {
     "cell_type": "code",
     "collapsed": false,
     "input": [
      "with open(\"us_state_map.geojson\",\"r\") as fp:\n",
      "    state_map = json.load(fp)"
     ],
     "language": "python",
     "metadata": {},
     "outputs": []
    },
    {
     "cell_type": "code",
     "collapsed": false,
     "input": [
      "state_kcancer_map = {'features': [], 'crs': {'properties': {'name': 'urn:ogc:def:crs:OGC:1.3:CRS84'}, 'type': 'name'},'type': 'FeatureCollection'}"
     ],
     "language": "python",
     "metadata": {},
     "outputs": []
    },
    {
     "cell_type": "code",
     "collapsed": false,
     "input": [
      "for i in state_map['features']:\n",
      "    statefips = int(i['properties']['STATEFP'])\n",
      "    if int(statefips in state_mortality.keys()):\n",
      "        if state_mortality[statefips] <= 0.000046:\n",
      "            i['properties']['stroke'] = \"#8ae62e\"\n",
      "            i['properties']['fill'] = \"#8ae62e\"\n",
      "        elif state_mortality[statefips] <= 0.000052:\n",
      "            i['properties']['stroke'] = \"#e6e62e\"\n",
      "            i['properties']['fill'] = \"#e6e62e\"\n",
      "        elif state_mortality[statefips] <= 0.000058:\n",
      "            i['properties']['stroke'] = \"#e68a2e\"\n",
      "            i['properties']['fill'] = \"#e68a2e\"\n",
      "        else:\n",
      "            i['properties']['stroke'] = \"#e62e2e\"\n",
      "            i['properties']['fill'] = \"#e62e2e\"\n",
      "        state_kcancer_map['features'].append(i)"
     ],
     "language": "python",
     "metadata": {},
     "outputs": []
    },
    {
     "cell_type": "code",
     "collapsed": false,
     "input": [
      "with open (\"state_kcancer_map.geojson\",\"w\") as fp:\n",
      "    json.dump(state_kcancer_map,fp)"
     ],
     "language": "python",
     "metadata": {},
     "outputs": []
    }
   ],
   "metadata": {}
  }
 ]
}