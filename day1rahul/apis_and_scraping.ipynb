{
 "metadata": {
  "name": "",
  "signature": "sha256:8adc6399c1a03b8263e179ae427984631c3e8709e0ac26839839c60e9b9133ff"
 },
 "nbformat": 3,
 "nbformat_minor": 0,
 "worksheets": [
  {
   "cells": [
    {
     "cell_type": "code",
     "collapsed": false,
     "input": [
      "%matplotlib inline\n",
      "import numpy as np\n",
      "import matplotlib.pyplot as plt\n",
      "import pandas as pd\n",
      "import seaborn as sns\n",
      "pd.set_option('display.width', 500)\n",
      "pd.set_option('display.max_columns', 100)"
     ],
     "language": "python",
     "metadata": {},
     "outputs": [],
     "prompt_number": 26
    },
    {
     "cell_type": "markdown",
     "metadata": {},
     "source": [
      "##Using an api for which there is a module: Twitter\n",
      "http://nbviewer.ipython.org/github/furukama/Mining-the-Social-Web-2nd-Edition/blob/master/ipynb/Chapter%201%20-%20Mining%20Twitter.ipynb\n",
      "\n",
      "We'll see whats trending and search for a hashtag. But first, set up a twitter app for yourself by going here: https://apps.twitter.com/ . You will need to have your twitter account handy. Then use `pip` to install the twitter api python wrapper"
     ]
    },
    {
     "cell_type": "code",
     "collapsed": false,
     "input": [
      "import uuid\n",
      "uuid.uuid4() #creates a unique ID"
     ],
     "language": "python",
     "metadata": {},
     "outputs": [
      {
       "metadata": {},
       "output_type": "pyout",
       "prompt_number": 27,
       "text": [
        "UUID('40c4720c-b0fe-4459-b1d7-531e0e636c9c')"
       ]
      }
     ],
     "prompt_number": 27
    },
    {
     "cell_type": "code",
     "collapsed": false,
     "input": [
      "import twitter"
     ],
     "language": "python",
     "metadata": {},
     "outputs": [],
     "prompt_number": 28
    },
    {
     "cell_type": "code",
     "collapsed": false,
     "input": [
      "CONSUMER_KEY = 'jyKO3Vf9GBmBhbzt3LGF3nsa1'\n",
      "CONSUMER_SECRET ='jnS4XRDD9C8llquFqHmrtnYpk5BnSR5aar41Tj5CjyFTzJC0ng'\n",
      "OAUTH_TOKEN = '22967695-ssVcTfJVUeaFrbfnpLtiUFuz4G5QQVOnhYhHuePdN'\n",
      "OAUTH_TOKEN_SECRET = 'HIobjOiXJplsz9rd3n7hwbShHF7Po6VxFf2sbnbfaT5yC'\n",
      "\n",
      "auth = twitter.oauth.OAuth(OAUTH_TOKEN, OAUTH_TOKEN_SECRET,\n",
      "                           CONSUMER_KEY, CONSUMER_SECRET)\n",
      "\n",
      "twitter_api = twitter.Twitter(auth=auth)\n",
      "\n",
      "# Nothing to see by displaying twitter_api except that it's now a\n",
      "# defined variable\n",
      "\n",
      "print twitter_api"
     ],
     "language": "python",
     "metadata": {},
     "outputs": [
      {
       "output_type": "stream",
       "stream": "stdout",
       "text": [
        "<twitter.api.Twitter object at 0x0000000016CBDC50>\n"
       ]
      }
     ],
     "prompt_number": 29
    },
    {
     "cell_type": "code",
     "collapsed": false,
     "input": [
      "WORLD_WOE_ID = 1\n",
      "US_WOE_ID = 23424977\n",
      "us_trends = twitter_api.trends.place(_id=US_WOE_ID)\n",
      "world_trends = twitter_api.trends.place(_id=WORLD_WOE_ID)\n",
      "print us_trends"
     ],
     "language": "python",
     "metadata": {},
     "outputs": [
      {
       "output_type": "stream",
       "stream": "stdout",
       "text": [
        "[{u'created_at': u'2014-11-05T23:11:12Z', u'trends': [{u'url': u'http://twitter.com/search?q=%23IfIWasInCharge', u'query': u'%23IfIWasInCharge', u'name': u'#IfIWasInCharge', u'promoted_content': None}, {u'url': u'http://twitter.com/search?q=%23WordsIn2Days', u'query': u'%23WordsIn2Days', u'name': u'#WordsIn2Days', u'promoted_content': None}, {u'url': u'http://twitter.com/search?q=%22Majora%27s+Mask+3D%22', u'query': u'%22Majora%27s+Mask+3D%22', u'name': u\"Majora's Mask 3D\", u'promoted_content': None}, {u'url': u'http://twitter.com/search?q=%231DFOURHANGOUT', u'query': u'%231DFOURHANGOUT', u'name': u'#1DFOURHANGOUT', u'promoted_content': None}, {u'url': u'http://twitter.com/search?q=%23CalIMeCam', u'query': u'%23CalIMeCam', u'name': u'#CalIMeCam', u'promoted_content': None}, {u'url': u'http://twitter.com/search?q=%23GetLaurenOnEllen', u'query': u'%23GetLaurenOnEllen', u'name': u'#GetLaurenOnEllen', u'promoted_content': None}, {u'url': u'http://twitter.com/search?q=Splatoon', u'query': u'Splatoon', u'name': u'Splatoon', u'promoted_content': None}, {u'url': u'http://twitter.com/search?q=%225th+of+November%22', u'query': u'%225th+of+November%22', u'name': u'5th of November', u'promoted_content': None}, {u'url': u'http://twitter.com/search?q=CMAs', u'query': u'CMAs', u'name': u'CMAs', u'promoted_content': None}, {u'url': u'http://twitter.com/search?q=%22Gone+Home%22', u'query': u'%22Gone+Home%22', u'name': u'Gone Home', u'promoted_content': None}], u'as_of': u'2014-11-05T23:21:19Z', u'locations': [{u'woeid': 23424977, u'name': u'United States'}]}]\n"
       ]
      }
     ],
     "prompt_number": 30
    },
    {
     "cell_type": "code",
     "collapsed": false,
     "input": [
      "for item in us_trends[0]['trends']:\n",
      "    print item['name'] #remove['name'] to see what you get"
     ],
     "language": "python",
     "metadata": {},
     "outputs": [
      {
       "output_type": "stream",
       "stream": "stdout",
       "text": [
        "#IfIWasInCharge\n",
        "#WordsIn2Days\n",
        "Majora's Mask 3D\n",
        "#1DFOURHANGOUT\n",
        "#CalIMeCam\n",
        "#GetLaurenOnEllen\n",
        "Splatoon\n",
        "5th of November\n",
        "CMAs\n",
        "Gone Home\n"
       ]
      }
     ],
     "prompt_number": 31
    },
    {
     "cell_type": "code",
     "collapsed": false,
     "input": [
      "for item in world_trends[0]['trends']:\n",
      "    print item['name']"
     ],
     "language": "python",
     "metadata": {},
     "outputs": [
      {
       "output_type": "stream",
       "stream": "stdout",
       "text": [
        "#KillerKaraoke\n",
        "#Whatsappbuchon\n",
        "#HappyWuYiFanDay\n",
        "#YoPropongo\n",
        "#9YearsWithSuperJunior\n",
        "Who Is Felicity Smoak\n",
        "Felipe Nasr\n",
        "6Kas\u0131mCimbomuAnma Gen\u00e7likVeSkorBayram\u0131\n",
        "Parab\u00e9nsReiDaveCasali\n",
        "Sauber\n"
       ]
      }
     ],
     "prompt_number": 32
    },
    {
     "cell_type": "code",
     "collapsed": false,
     "input": [
      "[1,2,3]+['a','b','c']"
     ],
     "language": "python",
     "metadata": {},
     "outputs": [
      {
       "metadata": {},
       "output_type": "pyout",
       "prompt_number": 33,
       "text": [
        "[1, 2, 3, 'a', 'b', 'c']"
       ]
      }
     ],
     "prompt_number": 33
    },
    {
     "cell_type": "code",
     "collapsed": false,
     "input": [
      "nonhashtrends=[]\n",
      "for trend in us_trends[0]['trends']+world_trends[0]['trends']:\n",
      "    #print trend['name']\n",
      "    if trend['name'].find('#') !=0:\n",
      "        nonhashtrends.append(trend['name'])\n",
      "print nonhashtrends"
     ],
     "language": "python",
     "metadata": {},
     "outputs": [
      {
       "output_type": "stream",
       "stream": "stdout",
       "text": [
        "[u\"Majora's Mask 3D\", u'Splatoon', u'5th of November', u'CMAs', u'Gone Home', u'Who Is Felicity Smoak', u'Felipe Nasr', u'6Kas\\u0131mCimbomuAnma Gen\\xe7likVeSkorBayram\\u0131', u'Parab\\xe9nsReiDaveCasali', u'Sauber']\n"
       ]
      }
     ],
     "prompt_number": 34
    },
    {
     "cell_type": "code",
     "collapsed": false,
     "input": [
      "nameiwant=nonhashtrends[-2]\n",
      "print nameiwant"
     ],
     "language": "python",
     "metadata": {},
     "outputs": [
      {
       "output_type": "stream",
       "stream": "stdout",
       "text": [
        "Parab\u00e9nsReiDaveCasali\n"
       ]
      }
     ],
     "prompt_number": 37
    },
    {
     "cell_type": "code",
     "collapsed": false,
     "input": [
      "#http://www.mediawiki.org/wiki/API:Main_page\n",
      "import requests\n",
      "from urllib import quote\n",
      "WIKIPEDIA='http://en.wikipedia.org/w/api.php'\n",
      "querydict={'action':'query', 'format':'json', 'prop':'revisions', 'rvprop':'content', 'titles':nonhashtrends[1]}\n",
      "querydict={k:quote(v) for k, v in querydict.items()}\n",
      "print querydict"
     ],
     "language": "python",
     "metadata": {},
     "outputs": [
      {
       "output_type": "stream",
       "stream": "stdout",
       "text": [
        "{'action': 'query', 'format': 'json', 'titles': u'Splatoon', 'rvprop': 'content', 'prop': 'revisions'}\n"
       ]
      }
     ],
     "prompt_number": 38
    },
    {
     "cell_type": "code",
     "collapsed": false,
     "input": [
      "query_string = \"?\"+\"&\".join([k+\"=\"+v for k,v in querydict.items()])\n",
      "print query_string\n",
      "r = requests.get(WIKIPEDIA+query_string)"
     ],
     "language": "python",
     "metadata": {},
     "outputs": [
      {
       "output_type": "stream",
       "stream": "stdout",
       "text": [
        "?action=query&format=json&titles=Splatoon&rvprop=content&prop=revisions\n"
       ]
      }
     ],
     "prompt_number": 39
    },
    {
     "cell_type": "code",
     "collapsed": false,
     "input": [
      "r.json()"
     ],
     "language": "python",
     "metadata": {},
     "outputs": [
      {
       "metadata": {},
       "output_type": "pyout",
       "prompt_number": 40,
       "text": [
        "{u'query': {u'pages': {u'43018670': {u'ns': 0,\n",
        "    u'pageid': 43018670,\n",
        "    u'revisions': [{u'*': u'{{Infobox video game\\n| title       = Splatoon\\n| collapsible = yes\\n| state       = expanded\\n| image       = [[File:Splatoon Wii U logo.png|256px|Splatoon]]\\n| caption     = \\'\\'Splatoon\\'\\' logo artwork\\n| developer   = [[Nintendo Entertainment Analysis & Development|Nintendo EAD Group No. 2]]\\n| publisher   = [[Nintendo]]\\n| platforms   = [[Wii U]]\\n| released    = Q2 2015<ref>{{Nintendo Direct 11.5.14}}</ref>\\n| genre       = [[Third-person shooter]]\\n| modes       = [[Single-player video game|Single-player]], [[Multiplayer video game|multiplayer]]\\n| director    = Yusuke Amano<br/>Tsubasa Sakaguchi\\n| producer    = Hisashi Nogami\\n| programmer  = Shintaro Sato<ref name=\"eurogamer e3 interview\">{{cite web|url=http://www.eurogamer.net/articles/2014-06-20-how-nintendo-is-reinventing-the-shooter-with-splatoon|title=How Nintendo is reinventing the shooter with Splatoon|last=Robinson|first=Martin|date=20 June 2014|website=[[Eurogamer]]|publisher=[[Gamer Network]]|accessdate=22 July 2014|archiveurl=https://web.archive.org/web/20140626005937/http://www.eurogamer.net/articles/2014-06-20-how-nintendo-is-reinventing-the-shooter-with-splatoon|archivedate=26 June 2014}}</ref><ref name=\"IGN e3 interview\">{{cite web|url=http://www.ign.com/articles/2014/06/24/splatoon-the-origins-of-nintendoas-adorable-squad-based-shooter|title=Splatoon: The Origins of Nintendo\\'s Adorable Squad Based Shooter|last=Otero|first=Jos\\xe9|date=23 June 2014|website=[[IGN]]|accessdate=22 July 2014|archiveurl=https://web.archive.org/web/20140704032209/http://www.ign.com/articles/2014/06/24/splatoon-the-origins-of-nintendoas-adorable-squad-based-shooter|archivedate=4 July 2014}}</ref>\\n| artist      = Seita Inoue<ref name=\"Nindori interview\">\\'\\'[[Nintendo Dream]]\\'\\' September 2014 (Vol. 245) \\'\\'Splatoon\\'\\' developer interview.</ref>\\n| composer    = [[Toru Minegishi]]<ref name=\"Nindori interview\"/>\\n}}\\n\\n{{nihongo|\\'\\'\\'\\'\\'Splatoon\\'\\'\\'\\'\\' |\\u30b9\\u30d7\\u30e9\\u30c8\\u30a5\\u30fc\\u30f3|Supurat\\u016bn}} is an upcoming [[third-person shooter]] video game developed and published by [[Nintendo]] for [[Wii U]], which is scheduled for release in 2015.  The title is a [[portmanteau]] of the words \"splat\" and \"[[platoon]].\"\\n\\n== Gameplay ==\\n[[File:Splatoon Wii U gameplay screenshot.jpg|thumb|280px|left|In \\'\\'Splatoon\\'\\', players control characters known as Inklings. Here, the player uses an inkling in human form to shoot colored ink across the game environment.]]\\n\\n\\'\\'Splatoon\\'\\' is a team-based third-person shooter which is playable by up to eight players in 4-vs-4 matches. Players control characters called Inklings, who have the ability to change between human and squid forms. In human form, Inklings are able to shoot colored ink across the game environment, with the player\\'s goal being to have the most territory inked in their team\\'s color before the match ends. Transforming into a squid allows players to swim through ink of their own color, even up walls and through grates, hiding from the enemy and replenishing their ink supply in the process. Conversely, enemy ink is much slower to move across in human form.  Players can use their ink to try and \\'splatter\\' their opponents, which will send them back to their team\\'s respawn point whilst also providing a large splat of ink.\\n\\nPlayers can use the [[Wii U GamePad]] to view a map of the surroundings and instantly launch towards the location of another teammate, as well as use gyroscopic controls to assist with aiming. Along with the standard ink gun, special weapons with limited ammo can be obtained, such as a paint roller, a bazooka, grenades, and a sniper rifle.<ref>{{cite web |url=http://www.polygon.com/2014/6/10/5796790/splatoon-is-nintendos-take-on-third-person-squid-shooters |title=Splatoon is Nintendo\\'s take on third-person squid shooters |last=Crecente |first=Brian |date=10 June 2014 |website=[[Polygon (website)|Polygon]] |publisher=[[Vox Media]] |accessdate=11 June 2014}}</ref>\\n\\n== Development ==\\n\\'\\'Splatoon\\'\\' is being developed by [[Nintendo Entertainment Analysis & Development]]. In mid-2013, one member of the \\'\\'[[Animal Crossing]]\\'\\' development team, Shintaro Sato, created a four-versus-four paint-based territory control game set in a featureless arena.<ref name=\"kotaku e3 interview\">{{cite web|url=http://kotaku.com/nintendos-big-new-multiplayer-shooter-is-very-nintend-1599846116|title=Nintendo\\'s Big New Multiplayer Shooter Is Very...Nintendo|last=Totilo|first=Stephen|date=3 July 2014|website=[[Kotaku]]|publisher=[[Gawker Media]]|accessdate=22 July 2014|archiveurl=https://web.archive.org/web/20140717214508/http://kotaku.com/nintendos-big-new-multiplayer-shooter-is-very-nintend-1599846116|archivedate=17 July 2014}}</ref> After management approved making the prototype into a full game, the team started expanding its concepts. Early on, a player who would hide in the ink had to stay in place; now, the character can swim through it, moving much more quickly than it could on foot.<ref name=\"gameinformer e3 interview\">{{cite web|url=https://web.archive.org/web/20140722214130/http://www.gameinformer.com/b/features/archive/2014/06/22/splatoon-interview-it-couldn-39-t-be-mario-it-had-to-be-squids.aspx?PostPageIndex=2|title=Splatoon Interview \\u2013 It Couldn\\'t Be Mario, It Had To Be Squids|last=Hilliard|first=Kyle|date=22 June 2014|website=[[Game Informer]]|publisher=GameStop|accessdate=22 July 2014|archiveurl=https://web.archive.org/web/20140722214130/http://www.gameinformer.com/b/features/archive/2014/06/22/splatoon-interview-it-couldn-39-t-be-mario-it-had-to-be-squids.aspx?PostPageIndex=2|archivedate=22 July 2014}}</ref> The art director sketched different ideas for the player character, including animals, \"macho men,\" robots, and [[Mario]], but the team settled on human children who could turn into squids to swim in the ink.<ref name=\"gameinformer e3 interview\"/> From the beginning, the [[Wii U GamePad|GamePad]] could display a real-time overview of the map so the player could see which team was ahead.<ref name=\"IGN e3 interview\"/> The development team was determined to make interesting sound effects, so they repeatedly pounded slime to create the sound of a squid diving into ink.<ref name=\"eurogamer e3 interview\"/>\\n\\nThe team working on the game is composed of much younger members compared to other teams that work on Nintendo franchises. Game director Tsubasa Sakaguchi and producer Hisashi Nogami admitted that they along with the rest of the team play first person shooters and games on other companies\\' hardware, such as \\'\\'[[Call of Duty]]\\'\\' and \\'\\'[[Battlefield (series)|Battlefield]]\\'\\', as part of their job and also because they love video games in general.<ref name=\"kotaku e3 interview\"/>\\n\\nThe team is aiming to release the game in \"the first half of 2015.\"<ref name=\"gameinformer e3 interview\"/>\\n\\n== Reception ==\\n\\n=== Awards ===\\n{|class=\"wikitable collapsible collapsed\" style=\"width:100%;\"\\n|-\\n!List of awards and nominations for \\'\\'Splatoon\\'\\'\\n|-\\n|style=\"padding:0; border:none;\"|\\n{|class=\"wikitable\" style=\"border:none; margin:0; width:100%;\"\\n|-\\n! Year !! Award !! Category !! Result\\n|-\\n| rowspan=\"28\" align=canter | 2014\\n| rowspan=\"2\" align=center | [[Destructoid]]\\'s Best of E3<ref>{{cite web |url=http://www.destructoid.com/destructoid-s-best-of-e3-2014-winners--276741.phtml |title=Destructoid\\'s Best of E3 2014 winners! |last=Aziz |first=Hamza |date=18 June 2014 |website=[[Destructoid]] |publisher=Modern Method |archiveurl=https://web.archive.org/web/20140701080342/http://www.destructoid.com/destructoid-s-best-of-e3-2014-winners--276741.phtml |archivedate=11 July 2014}}</ref>\\n| Best Nintendo Exclusive\\n| {{nom}}\\n|-\\n| Best Shooter\\n| {{nom}}\\n|-\\n| rowspan=\"2\" align=center |[[Game Critics Awards]] Best of E3 2014<ref>{{cite web |url=http://www.gamecriticsawards.com/nominees.html |title=Game Critics Awards Best of E3 2014 |date=1 July 2014 |website=[[Game Critics Awards]] |accessdate=1 July 2014 |archiveurl=https://web.archive.org/web/20140703185023/http://www.gamecriticsawards.com/nominees.html |archivedate=3 July 2014}}</ref><ref>{{cite web|url=http://www.gamecriticsawards.com/winners.html |title=2014 Winners |website=Game Critics Awards |accessdate=22 July 2014 |archiveurl=https://web.archive.org/web/20140701223451/http://www.gamecriticsawards.com/winners.html |archivedate=1 July 2014}}</ref>\\n| Best Online Multiplayer\\n| {{nom}}\\n|-\\n| Best Original Game\\n| {{nom}}\\n|-\\n| align=center |[[Gamescom]] Award<ref>{{cite web |url=http://www.gamescom-cologne.com/en/gamescom/presse/presseinformationen/gc_pressinformationen.php?aktion=pfach&p1id=kmpresse_gamescom_e&format=html&base=&tp=k3content&search=&pmid=kmeigen.kmpresse_1407314535&start=0&anzahl=10&channel=kmeigen&language=e |title=gamescom award 2014: the nominees are known |date=6 August 2014 |website=[[Gamescom]] |publisher=Bundesverband Interaktive Unterhaltungssoftware |accessdate=7 August 2014 |archiveurl=https://web.archive.org/web/20140808004859/http://www.gamescom-cologne.com/en/gamescom/presse/presseinformationen/gc_pressinformationen.php?aktion=pfach&p1id=kmpresse_gamescom_e&format=html&base=&tp=k3content&search=&pmid=kmeigen.kmpresse_1407314535&start=0&anzahl=10&channel=kmeigen&language=e |archivedate=7 August 2014}}</ref>\\n| Best Console Game Wii U\\n| {{nom}}\\n|}\\n|}\\n\\n== References ==\\n<!-- {{Reflist|30em}} -->\\n{{Reflist}}\\n\\n== External links ==\\n* {{Official website|http://e3.nintendo.com/games/wiiu/splatoon/}}\\n* {{GameFAQs|id=805617|name=\\'\\'Splatoon\\'\\'}}\\n\\n{{Nintendo franchises}}\\n{{Portal bar|Nintendo|Video games|2010s}}\\n\\n[[Category:Upcoming video games scheduled for 2015]]\\n[[Category:Nintendo Entertainment Analysis and Development games]]\\n[[Category:Nintendo Network games]]\\n[[Category:Wii U games]]\\n[[Category:Wii U-only games]]\\n[[Category:Third-person shooters]]\\n[[Category:Multiplayer and single-player video games]]',\n",
        "      u'contentformat': u'text/x-wiki',\n",
        "      u'contentmodel': u'wikitext'}],\n",
        "    u'title': u'Splatoon'}}},\n",
        " u'warnings': {u'query': {u'*': u\"Formatting of continuation data will be changing soon. To continue using the current formatting, use the 'rawcontinue' parameter. To begin using the new format, pass an empty string for 'continue' in the initial query.\"}}}"
       ]
      }
     ],
     "prompt_number": 40
    },
    {
     "cell_type": "code",
     "collapsed": false,
     "input": [
      "q = '#dst4l' \n",
      "\n",
      "count = 100\n",
      "\n",
      "# See https://dev.twitter.com/docs/api/1.1/get/search/tweets\n",
      "\n",
      "search_results = twitter_api.search.tweets(q=q, count=count)\n",
      "\n",
      "statuses = search_results['statuses']\n",
      "print \"\\n\".join([e['text'] for e in statuses])"
     ],
     "language": "python",
     "metadata": {},
     "outputs": [
      {
       "output_type": "stream",
       "stream": "stdout",
       "text": [
        "RT @Fernsebner: A day of #GitHub, starting with #cats. #DST4L http://t.co/atK3Lnc25T\n",
        "GitHub\u2019s @kdaigle explains the difference between a branch and a fork to a room full of #librarians. #DST4L http://t.co/zxcGECKjbO\n",
        "Exploring &amp; learning how to use #Git &amp; #GitHub with @kdaigle. Made more fun with talk of cats &amp; cookies. #DST4L\n",
        "RT @graving: librarians getting punchy with our GitHub training day #DST4L http://t.co/VnXLTaKcYW\n",
        "librarians getting punchy with our GitHub training day #DST4L http://t.co/VnXLTaKcYW\n",
        "RT @Fernsebner: A day of #GitHub, starting with #cats. #DST4L http://t.co/atK3Lnc25T\n",
        "Sad that I wasn't quick enough to get a \"Yes we code\" octocat sticker but enjoying #DST4L GitHub training nonetheless.\n",
        "The #octocats of my people. #DST4L http://t.co/xJFTOR1llE\n",
        "Learning about #GIT from @kdaigle on an early saturday morning during #DST4L #Ineedmorecoffee http://t.co/CookcMJqdw\n",
        "A day of #GitHub, starting with #cats. #DST4L http://t.co/atK3Lnc25T\n",
        "World of use cases coming to us for GitHub at all day #DST4L\n",
        "RT @booknetsirk: #GitHub Saturday is here! Looking forward to a day of training with @kdaigle and my #DST4L colleagues!\n",
        "@libcce starts off a day at #DST4L http://t.co/dr5YPVuQvW\n",
        "RT @booknetsirk: #GitHub Saturday is here! Looking forward to a day of training with @kdaigle and my #DST4L colleagues!\n",
        "#GitHub Saturday is here! Looking forward to a day of training with @kdaigle and my #DST4L colleagues!\n",
        "RT @libcce: Data Scientist Training for Librarians http://t.co/6h6fBcNnko meets @github this Saturday. Thanks to @kdaigle! #dst4l\n",
        "RT @libcce: Data Scientist Training for Librarians http://t.co/6h6fBcNnko meets @github this Saturday. Thanks to @kdaigle! #dst4l\n",
        "Data Scientist Training for Librarians http://t.co/6h6fBcNnko meets @github this Saturday. Thanks to @kdaigle! #dst4l\n"
       ]
      }
     ],
     "prompt_number": 17
    },
    {
     "cell_type": "markdown",
     "metadata": {},
     "source": [
      "##Scraping\n",
      "\n",
      "Many a time you wont have any access to an API. And you will resort to scraping a web page. This is brittle, but very useful. We'll use pyquery, which is a jquery clone in python. \n",
      "\n",
      "Try going to https://www.goodreads.com/list/show/1.Best_Books_Ever?page=1 and see it in Chrome Developer tools."
     ]
    },
    {
     "cell_type": "code",
     "collapsed": false,
     "input": [
      "range(1,5)"
     ],
     "language": "python",
     "metadata": {},
     "outputs": [
      {
       "metadata": {},
       "output_type": "pyout",
       "prompt_number": 4,
       "text": [
        "[1, 2, 3, 4]"
       ]
      }
     ],
     "prompt_number": 4
    },
    {
     "cell_type": "code",
     "collapsed": false,
     "input": [
      "avar=\"hello %s\" % \"world\"\n",
      "print avar"
     ],
     "language": "python",
     "metadata": {},
     "outputs": [
      {
       "output_type": "stream",
       "stream": "stdout",
       "text": [
        "hello world\n"
       ]
      }
     ],
     "prompt_number": 6
    },
    {
     "cell_type": "code",
     "collapsed": false,
     "input": [
      "#go get the webpages that you want and download to your computer\n",
      "URLSTART=\"https://www.goodreads.com\"\n",
      "BESTBOOKS=\"/list/show/1.Best_Books_Ever?page=\"\n",
      "import time, requests\n",
      "for i in xrange(1,3): #this will give me the integers up to a certain point\n",
      "    bookurl=str(i) \n",
      "    urlstring=URLSTART+BESTBOOKS+bookurl\n",
      "    print urlstring\n",
      "    stuff=requests.get(URLSTART+BESTBOOKS+bookurl)\n",
      "    print stuff.status_code\n",
      "    text_obtain = stuff.text\n",
      "    filetowrite=\"page\"+ '%02d' % i  #format this to be 2 digits\n",
      "    print \"FTW\", filetowrite\n",
      "    fd=open(filetowrite+\".html\",\"w\")\n",
      "    fd.write(text_obtain.encode('utf-8'))\n",
      "    fd.close()\n",
      "    time.sleep(2)  #once you've done this go to sleep for 2 seconds and do nothing so that the page doesnt't stop you"
     ],
     "language": "python",
     "metadata": {},
     "outputs": [
      {
       "output_type": "stream",
       "stream": "stdout",
       "text": [
        "https://www.goodreads.com/list/show/1.Best_Books_Ever?page=1\n",
        "200"
       ]
      },
      {
       "output_type": "stream",
       "stream": "stdout",
       "text": [
        "\n",
        "FTW page01\n",
        "https://www.goodreads.com/list/show/1.Best_Books_Ever?page=2"
       ]
      },
      {
       "output_type": "stream",
       "stream": "stdout",
       "text": [
        "\n",
        "200"
       ]
      },
      {
       "output_type": "stream",
       "stream": "stdout",
       "text": [
        "\n",
        "FTW page02\n"
       ]
      }
     ],
     "prompt_number": 13
    },
    {
     "cell_type": "code",
     "collapsed": false,
     "input": [
      "from pyquery import PyQuery as pq #import a function with a really long name and make it a short name\n",
      "bookdict={}\n",
      "for i in xrange(1,3):\n",
      "    books=[]\n",
      "    stri = '%02d' % i\n",
      "    filetoread=\"page\"+ stri + '.html'   #construct a file to read\n",
      "    print \"FTW\", filetoread #pringt out the file to read\n",
      "    d=pq(filename=filetoread) #from the PyQuery module\n",
      "    for e in d('.bookTitle'):  #for element in d document - looking for everything that is a book title\n",
      "        books.append(pq(e).attr.href) #and finding the href\n",
      "    print books[:10] #print 0 thru 9\n",
      "    bookdict[stri]=books\n",
      "    fd=open(\"list\"+stri+\".txt\",\"w\")\n",
      "    fd.write(\"\\n\".join(books))\n",
      "    fd.close()"
     ],
     "language": "python",
     "metadata": {},
     "outputs": [
      {
       "output_type": "stream",
       "stream": "stdout",
       "text": [
        "FTW page01.html\n",
        "['/book/show/2767052-the-hunger-games', '/book/show/2.Harry_Potter_and_the_Order_of_the_Phoenix', '/book/show/41865.Twilight', '/book/show/2657.To_Kill_a_Mockingbird', '/book/show/1885.Pride_and_Prejudice', '/book/show/18405.Gone_with_the_Wind', '/book/show/11127.The_Chronicles_of_Narnia', '/book/show/7613.Animal_Farm', '/book/show/370493.The_Giving_Tree', '/book/show/11.The_Hitchhiker_s_Guide_to_the_Galaxy']"
       ]
      },
      {
       "output_type": "stream",
       "stream": "stdout",
       "text": [
        "\n",
        "FTW page02.html\n",
        "['/book/show/24583.The_Adventures_of_Tom_Sawyer', '/book/show/34.The_Fellowship_of_the_Ring', '/book/show/6310.Charlie_and_the_Chocolate_Factory', '/book/show/4948.The_Very_Hungry_Caterpillar', '/book/show/9717.The_Unbearable_Lightness_of_Being', '/book/show/6900.Tuesdays_with_Morrie', '/book/show/1423.The_Compleat_Works_of_Wllm_Shkspr', '/book/show/12296.The_Scarlet_Letter', '/book/show/10365.Where_the_Red_Fern_Grows', '/book/show/256008.Lonesome_Dove']"
       ]
      },
      {
       "output_type": "stream",
       "stream": "stdout",
       "text": [
        "\n"
       ]
      }
     ],
     "prompt_number": 15
    },
    {
     "cell_type": "code",
     "collapsed": false,
     "input": [
      "tomurl=URLSTART+bookdict['02'][0]\n",
      "tomstuff=requests.get(tomurl)\n",
      "from IPython.display import HTML\n",
      "HTML('<iframe>'+tomstuff.text+'</iframe>')"
     ],
     "language": "python",
     "metadata": {},
     "outputs": [],
     "prompt_number": 16
    },
    {
     "cell_type": "code",
     "collapsed": false,
     "input": [
      "d=pq(tomstuff.text)\n",
      "print d(\"meta[property='og:title']\").attr('content')\n",
      "print d(\"meta[property='good_reads:isbn']\").attr('content')\n",
      "print d(\"meta[property='og:type']\").attr('content')\n",
      "print d(\"meta[property='good_reads:author']\").attr('content')\n",
      "print d(\"span.average\").text()\n",
      "print d(\"span.value-title[itemprop='ratingCount']\").attr(\"title\")\n",
      "print d(\"span.value-title[itemprop!='ratingCount']\").attr(\"title\")"
     ],
     "language": "python",
     "metadata": {},
     "outputs": [
      {
       "output_type": "stream",
       "stream": "stdout",
       "text": [
        "The Adventures of Tom Sawyer\n",
        "0143039563\n",
        "good_reads:book\n",
        "https://www.goodreads.com/author/show/1244.Mark_Twain\n",
        "3.86"
       ]
      },
      {
       "output_type": "stream",
       "stream": "stdout",
       "text": [
        "\n",
        "391460\n",
        "4498\n"
       ]
      }
     ],
     "prompt_number": 17
    },
    {
     "cell_type": "markdown",
     "metadata": {},
     "source": [
      "## Circling back to APIs\n",
      "\n",
      "See https://developer.github.com/guides/getting-started/"
     ]
    },
    {
     "cell_type": "code",
     "collapsed": false,
     "input": [
      "APISTART=\"https://api.github.com/\"\n",
      "requests.get(APISTART+\"users/rahuldave\").json()"
     ],
     "language": "python",
     "metadata": {},
     "outputs": [
      {
       "metadata": {},
       "output_type": "pyout",
       "prompt_number": 22,
       "text": [
        "{u'avatar_url': u'https://avatars.githubusercontent.com/u/43227?v=2',\n",
        " u'bio': None,\n",
        " u'blog': u'http://tig.nareau.net/blog/',\n",
        " u'company': u'Harvard University',\n",
        " u'created_at': u'2008-12-29T23:34:27Z',\n",
        " u'email': u'rahuldave on the gmail',\n",
        " u'events_url': u'https://api.github.com/users/rahuldave/events{/privacy}',\n",
        " u'followers': 13,\n",
        " u'followers_url': u'https://api.github.com/users/rahuldave/followers',\n",
        " u'following': 0,\n",
        " u'following_url': u'https://api.github.com/users/rahuldave/following{/other_user}',\n",
        " u'gists_url': u'https://api.github.com/users/rahuldave/gists{/gist_id}',\n",
        " u'gravatar_id': u'',\n",
        " u'hireable': False,\n",
        " u'html_url': u'https://github.com/rahuldave',\n",
        " u'id': 43227,\n",
        " u'location': u'Somerville, MA',\n",
        " u'login': u'rahuldave',\n",
        " u'name': u'Rahul Dave',\n",
        " u'organizations_url': u'https://api.github.com/users/rahuldave/orgs',\n",
        " u'public_gists': 9,\n",
        " u'public_repos': 38,\n",
        " u'received_events_url': u'https://api.github.com/users/rahuldave/received_events',\n",
        " u'repos_url': u'https://api.github.com/users/rahuldave/repos',\n",
        " u'site_admin': False,\n",
        " u'starred_url': u'https://api.github.com/users/rahuldave/starred{/owner}{/repo}',\n",
        " u'subscriptions_url': u'https://api.github.com/users/rahuldave/subscriptions',\n",
        " u'type': u'User',\n",
        " u'updated_at': u'2014-10-16T17:10:23Z',\n",
        " u'url': u'https://api.github.com/users/rahuldave'}"
       ]
      }
     ],
     "prompt_number": 22
    },
    {
     "cell_type": "code",
     "collapsed": false,
     "input": [
      "access_token=\"96a1491b679246f87819cdcc8e504768df162bdf\"\n",
      "headers = {'Authorization': ' token '+access_token}\n",
      "requests.get(APISTART+\"user\", headers=headers).json()"
     ],
     "language": "python",
     "metadata": {},
     "outputs": [
      {
       "metadata": {},
       "output_type": "pyout",
       "prompt_number": 26,
       "text": [
        "{u'avatar_url': u'https://avatars.githubusercontent.com/u/43227?v=2',\n",
        " u'bio': None,\n",
        " u'blog': u'http://tig.nareau.net/blog/',\n",
        " u'collaborators': 0,\n",
        " u'company': u'Harvard University',\n",
        " u'created_at': u'2008-12-29T23:34:27Z',\n",
        " u'disk_usage': 43530,\n",
        " u'email': u'rahuldave on the gmail',\n",
        " u'events_url': u'https://api.github.com/users/rahuldave/events{/privacy}',\n",
        " u'followers': 13,\n",
        " u'followers_url': u'https://api.github.com/users/rahuldave/followers',\n",
        " u'following': 0,\n",
        " u'following_url': u'https://api.github.com/users/rahuldave/following{/other_user}',\n",
        " u'gists_url': u'https://api.github.com/users/rahuldave/gists{/gist_id}',\n",
        " u'gravatar_id': u'',\n",
        " u'hireable': False,\n",
        " u'html_url': u'https://github.com/rahuldave',\n",
        " u'id': 43227,\n",
        " u'location': u'Somerville, MA',\n",
        " u'login': u'rahuldave',\n",
        " u'name': u'Rahul Dave',\n",
        " u'organizations_url': u'https://api.github.com/users/rahuldave/orgs',\n",
        " u'owned_private_repos': 1,\n",
        " u'plan': {u'collaborators': 0,\n",
        "  u'name': u'micro',\n",
        "  u'private_repos': 5,\n",
        "  u'space': 614400},\n",
        " u'private_gists': 3,\n",
        " u'public_gists': 9,\n",
        " u'public_repos': 38,\n",
        " u'received_events_url': u'https://api.github.com/users/rahuldave/received_events',\n",
        " u'repos_url': u'https://api.github.com/users/rahuldave/repos',\n",
        " u'site_admin': False,\n",
        " u'starred_url': u'https://api.github.com/users/rahuldave/starred{/owner}{/repo}',\n",
        " u'subscriptions_url': u'https://api.github.com/users/rahuldave/subscriptions',\n",
        " u'total_private_repos': 1,\n",
        " u'type': u'User',\n",
        " u'updated_at': u'2014-10-16T17:10:23Z',\n",
        " u'url': u'https://api.github.com/users/rahuldave'}"
       ]
      }
     ],
     "prompt_number": 26
    },
    {
     "cell_type": "code",
     "collapsed": false,
     "input": [
      "import json\n",
      "j=requests.get(APISTART+\"user\", headers=headers).json()\n",
      "js=json.dumps(j)\n",
      "js"
     ],
     "language": "python",
     "metadata": {},
     "outputs": [
      {
       "metadata": {},
       "output_type": "pyout",
       "prompt_number": 29,
       "text": [
        "'{\"disk_usage\": 43530, \"private_gists\": 3, \"public_repos\": 38, \"site_admin\": false, \"subscriptions_url\": \"https://api.github.com/users/rahuldave/subscriptions\", \"gravatar_id\": \"\", \"hireable\": false, \"id\": 43227, \"followers_url\": \"https://api.github.com/users/rahuldave/followers\", \"following_url\": \"https://api.github.com/users/rahuldave/following{/other_user}\", \"collaborators\": 0, \"total_private_repos\": 1, \"blog\": \"http://tig.nareau.net/blog/\", \"followers\": 13, \"location\": \"Somerville, MA\", \"type\": \"User\", \"email\": \"rahuldave on the gmail\", \"bio\": null, \"gists_url\": \"https://api.github.com/users/rahuldave/gists{/gist_id}\", \"owned_private_repos\": 1, \"company\": \"Harvard University\", \"events_url\": \"https://api.github.com/users/rahuldave/events{/privacy}\", \"html_url\": \"https://github.com/rahuldave\", \"updated_at\": \"2014-10-16T17:10:23Z\", \"plan\": {\"collaborators\": 0, \"name\": \"micro\", \"private_repos\": 5, \"space\": 614400}, \"received_events_url\": \"https://api.github.com/users/rahuldave/received_events\", \"starred_url\": \"https://api.github.com/users/rahuldave/starred{/owner}{/repo}\", \"public_gists\": 9, \"name\": \"Rahul Dave\", \"organizations_url\": \"https://api.github.com/users/rahuldave/orgs\", \"url\": \"https://api.github.com/users/rahuldave\", \"created_at\": \"2008-12-29T23:34:27Z\", \"avatar_url\": \"https://avatars.githubusercontent.com/u/43227?v=2\", \"repos_url\": \"https://api.github.com/users/rahuldave/repos\", \"following\": 0, \"login\": \"rahuldave\"}'"
       ]
      }
     ],
     "prompt_number": 29
    },
    {
     "cell_type": "code",
     "collapsed": false,
     "input": [],
     "language": "python",
     "metadata": {},
     "outputs": []
    }
   ],
   "metadata": {}
  }
 ]
}