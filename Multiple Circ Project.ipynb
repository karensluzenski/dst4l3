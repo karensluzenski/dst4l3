{
 "metadata": {
  "name": "",
  "signature": "sha256:80be8ee8fdadf457f4c7c854eb006dad50aa4554e58c6b4c9f7fd8b99805acd0"
 },
 "nbformat": 3,
 "nbformat_minor": 0,
 "worksheets": [
  {
   "cells": [
    {
     "cell_type": "code",
     "collapsed": false,
     "input": [
      "%matplotlib inline\n",
      "import numpy as np\n",
      "import matplotlib.pyplot as plt\n",
      "import pandas as pd\n",
      "import seaborn as sns\n",
      "pd.set_option('display.width', 500)\n",
      "pd.set_option('display.max_columns', 100)"
     ],
     "language": "python",
     "metadata": {},
     "outputs": [],
     "prompt_number": 1
    },
    {
     "cell_type": "code",
     "collapsed": false,
     "input": [
      "df = pd.read_csv(\"MultipleCircs.csv\")\n",
      "df.head()"
     ],
     "language": "python",
     "metadata": {},
     "outputs": [
      {
       "html": [
        "<div style=\"max-height:1000px;max-width:1500px;overflow:auto;\">\n",
        "<table border=\"1\" class=\"dataframe\">\n",
        "  <thead>\n",
        "    <tr style=\"text-align: right;\">\n",
        "      <th></th>\n",
        "      <th>RECORD #(BIBLIO)</th>\n",
        "      <th>TITLE</th>\n",
        "      <th>AUTHOR</th>\n",
        "      <th>pubyr</th>\n",
        "      <th>260|b</th>\n",
        "      <th>260|c</th>\n",
        "      <th>CALL #(BIBLIO)</th>\n",
        "      <th>TOT CHKOUT</th>\n",
        "      <th>LOUTDATE</th>\n",
        "    </tr>\n",
        "  </thead>\n",
        "  <tbody>\n",
        "    <tr>\n",
        "      <th>0</th>\n",
        "      <td> b23861927</td>\n",
        "      <td> Making meetings work : achieving high quality ...</td>\n",
        "      <td>            Tropman, John E.</td>\n",
        "      <td> 1996</td>\n",
        "      <td>  Sage Publications,</td>\n",
        "      <td> c1996.</td>\n",
        "      <td>       AS6 .T743 1996</td>\n",
        "      <td> 12</td>\n",
        "      <td>  3/5/2012 11:44</td>\n",
        "    </tr>\n",
        "    <tr>\n",
        "      <th>1</th>\n",
        "      <td> b2641725x</td>\n",
        "      <td> Memoirs of extraordinary popular delusions;\"Ex...</td>\n",
        "      <td> Mackay, Charles, 1814-1889.</td>\n",
        "      <td> 1996</td>\n",
        "      <td>              Wiley,</td>\n",
        "      <td>   1996</td>\n",
        "      <td>       AZ999 .M2 1996</td>\n",
        "      <td> 13</td>\n",
        "      <td> 1/25/2012 10:21</td>\n",
        "    </tr>\n",
        "    <tr>\n",
        "      <th>2</th>\n",
        "      <td> b35972233</td>\n",
        "      <td>             The 48 laws of power / Robert Greene.</td>\n",
        "      <td>             Greene, Robert.</td>\n",
        "      <td> 2000</td>\n",
        "      <td>      Penguin Books,</td>\n",
        "      <td>   2000</td>\n",
        "      <td>      BD438 .G74 2000</td>\n",
        "      <td> 23</td>\n",
        "      <td>   9/3/2014 7:12</td>\n",
        "    </tr>\n",
        "    <tr>\n",
        "      <th>3</th>\n",
        "      <td> b43827391</td>\n",
        "      <td> The hero within : six archetypes we live by / ...</td>\n",
        "      <td>       Pearson, Carol, 1944-</td>\n",
        "      <td> 1998</td>\n",
        "      <td> HarperSanFrancisco,</td>\n",
        "      <td> c1998.</td>\n",
        "      <td> BF175.5.A72 P43 1998</td>\n",
        "      <td> 13</td>\n",
        "      <td>  2/3/2014 16:03</td>\n",
        "    </tr>\n",
        "    <tr>\n",
        "      <th>4</th>\n",
        "      <td> b48969412</td>\n",
        "      <td> Where good ideas come from : the natural histo...</td>\n",
        "      <td>      Johnson, Steven, 1968-</td>\n",
        "      <td> 2010</td>\n",
        "      <td>    Riverhead Books,</td>\n",
        "      <td> c2010.</td>\n",
        "      <td>      BF408 .J56 2010</td>\n",
        "      <td> 11</td>\n",
        "      <td> 2/13/2014 11:43</td>\n",
        "    </tr>\n",
        "  </tbody>\n",
        "</table>\n",
        "</div>"
       ],
       "metadata": {},
       "output_type": "pyout",
       "prompt_number": 2,
       "text": [
        "  RECORD #(BIBLIO)                                              TITLE                       AUTHOR  pubyr                260|b   260|c        CALL #(BIBLIO)  TOT CHKOUT         LOUTDATE\n",
        "0        b23861927  Making meetings work : achieving high quality ...             Tropman, John E.   1996   Sage Publications,  c1996.        AS6 .T743 1996          12   3/5/2012 11:44\n",
        "1        b2641725x  Memoirs of extraordinary popular delusions;\"Ex...  Mackay, Charles, 1814-1889.   1996               Wiley,    1996        AZ999 .M2 1996          13  1/25/2012 10:21\n",
        "2        b35972233              The 48 laws of power / Robert Greene.              Greene, Robert.   2000       Penguin Books,    2000       BD438 .G74 2000          23    9/3/2014 7:12\n",
        "3        b43827391  The hero within : six archetypes we live by / ...        Pearson, Carol, 1944-   1998  HarperSanFrancisco,  c1998.  BF175.5.A72 P43 1998          13   2/3/2014 16:03\n",
        "4        b48969412  Where good ideas come from : the natural histo...       Johnson, Steven, 1968-   2010     Riverhead Books,  c2010.       BF408 .J56 2010          11  2/13/2014 11:43"
       ]
      }
     ],
     "prompt_number": 2
    },
    {
     "cell_type": "code",
     "collapsed": false,
     "input": [
      "df.shape"
     ],
     "language": "python",
     "metadata": {},
     "outputs": [
      {
       "metadata": {},
       "output_type": "pyout",
       "prompt_number": 3,
       "text": [
        "(1032, 9)"
       ]
      }
     ],
     "prompt_number": 3
    },
    {
     "cell_type": "code",
     "collapsed": false,
     "input": [
      "df.dtypes"
     ],
     "language": "python",
     "metadata": {},
     "outputs": [
      {
       "metadata": {},
       "output_type": "pyout",
       "prompt_number": 4,
       "text": [
        "RECORD #(BIBLIO)    object\n",
        "TITLE               object\n",
        "AUTHOR              object\n",
        "pubyr                int64\n",
        "260|b               object\n",
        "260|c               object\n",
        "CALL #(BIBLIO)      object\n",
        "TOT CHKOUT           int64\n",
        "LOUTDATE            object\n",
        "dtype: object"
       ]
      }
     ],
     "prompt_number": 4
    },
    {
     "cell_type": "code",
     "collapsed": false,
     "input": [
      "df.LOUTDATE=pd.to_datetime(df.LOUTDATE)"
     ],
     "language": "python",
     "metadata": {},
     "outputs": [],
     "prompt_number": 5
    },
    {
     "cell_type": "code",
     "collapsed": false,
     "input": [
      "df['year'] = df.LOUTDATE.map(lambda x: x.year)"
     ],
     "language": "python",
     "metadata": {},
     "outputs": [],
     "prompt_number": 6
    },
    {
     "cell_type": "code",
     "collapsed": false,
     "input": [
      "df.columns"
     ],
     "language": "python",
     "metadata": {},
     "outputs": [
      {
       "metadata": {},
       "output_type": "pyout",
       "prompt_number": 7,
       "text": [
        "Index([u'RECORD #(BIBLIO)', u'TITLE', u'AUTHOR', u'pubyr', u'260|b', u'260|c', u'CALL #(BIBLIO)', u'TOT CHKOUT', u'LOUTDATE', u'year'], dtype='object')"
       ]
      }
     ],
     "prompt_number": 7
    },
    {
     "cell_type": "code",
     "collapsed": false,
     "input": [
      "df.dtypes"
     ],
     "language": "python",
     "metadata": {},
     "outputs": [
      {
       "metadata": {},
       "output_type": "pyout",
       "prompt_number": 8,
       "text": [
        "RECORD #(BIBLIO)            object\n",
        "TITLE                       object\n",
        "AUTHOR                      object\n",
        "pubyr                        int64\n",
        "260|b                       object\n",
        "260|c                       object\n",
        "CALL #(BIBLIO)              object\n",
        "TOT CHKOUT                   int64\n",
        "LOUTDATE            datetime64[ns]\n",
        "year                         int64\n",
        "dtype: object"
       ]
      }
     ],
     "prompt_number": 8
    },
    {
     "cell_type": "code",
     "collapsed": false,
     "input": [
      "plt.scatter(df.year, df[\"TOT CHKOUT\"])"
     ],
     "language": "python",
     "metadata": {},
     "outputs": [
      {
       "metadata": {},
       "output_type": "pyout",
       "prompt_number": 9,
       "text": [
        "<matplotlib.collections.PathCollection at 0x16ce7860>"
       ]
      },
      {
       "metadata": {},
       "output_type": "display_data",
       "png": "[encoded data removed]",
       "text": [
        "<matplotlib.figure.Figure at 0x16e7ea20>"
       ]
      }
     ],
     "prompt_number": 9
    },
    {
     "cell_type": "code",
     "collapsed": false,
     "input": [
      "df.groupby('year')['TOT CHKOUT'].mean()"
     ],
     "language": "python",
     "metadata": {},
     "outputs": [
      {
       "metadata": {},
       "output_type": "pyout",
       "prompt_number": 10,
       "text": [
        "year\n",
        "2010    16.223214\n",
        "2011    18.122302\n",
        "2012    20.304813\n",
        "2013    19.696154\n",
        "2014    21.973054\n",
        "Name: TOT CHKOUT, dtype: float64"
       ]
      }
     ],
     "prompt_number": 10
    },
    {
     "cell_type": "code",
     "collapsed": false,
     "input": [],
     "language": "python",
     "metadata": {},
     "outputs": []
    }
   ],
   "metadata": {}
  }
 ]
}